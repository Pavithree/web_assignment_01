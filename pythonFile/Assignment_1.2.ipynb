{
 "cells": [
  {
   "cell_type": "code",
   "execution_count": 16,
   "metadata": {},
   "outputs": [],
   "source": [
    "import matplotlib.pyplot as plt\n",
    "import string"
   ]
  },
  {
   "cell_type": "code",
   "execution_count": 18,
   "metadata": {
    "scrolled": true
   },
   "outputs": [
    {
     "name": "stdout",
     "output_type": "stream",
     "text": [
      "NEW YORK—Rattling off accusations of anti-Republican bias as he burst through her kitchen, President Donald Trump reportedly stormed back into his 60 Minutes interview Friday while Leslie Stahl was eating lunch at her home. “Well, well, well, classic radical left-wing news media—48 hours after my interview, and you’re already sitting at home and relaxing like it’s over,” said the 45th president of the United States, who, after ordering Secret Service agents to kick down the door to Stahl’s apartment, told her he “wasn’t done talking yet,” slapped a forkful of roasted brussels sprouts out of her hand, and launched into a rant about how unprofessional she was to be eating on the job. “Don’t interrupt me! You said a lot of nasty, inconsiderate things two days ago, and now I know exactly how I’m going to respond. Just wait until the public sees this—not only are you drinking wine, but you’re not wearing a mask or practicing social distancing. Now, you’re going to invite me to sit down, give me a plate of whatever you’re eating, and give me 15 more minutes, on my terms.” At press time, Trump reportedly made several unsuccessful attempts to flip the table and then stormed out after Stahl again pressed the president on his coronavirus response.\n"
     ]
    }
   ],
   "source": [
    "with open(\"sample.txt\",\"r\",encoding='utf-8') as fd:\n",
    "    TEXT = fd.read()\n",
    "print(TEXT)"
   ]
  },
  {
   "cell_type": "code",
   "execution_count": 28,
   "metadata": {},
   "outputs": [
    {
     "name": "stdout",
     "output_type": "stream",
     "text": [
      "new york—rattling off accusations of antirepublican bias as he burst through her kitchen president donald trump reportedly stormed back into his  minutes interview friday while leslie stahl was eating lunch at her home “well well well classic radical leftwing news media— hours after my interview and you’re already sitting at home and relaxing like it’s over” said the th president of the united states who after ordering secret service agents to kick down the door to stahl’s apartment told her he “wasn’t done talking yet” slapped a forkful of roasted brussels sprouts out of her hand and launched into a rant about how unprofessional she was to be eating on the job “don’t interrupt me you said a lot of nasty inconsiderate things two days ago and now i know exactly how i’m going to respond just wait until the public sees this—not only are you drinking wine but you’re not wearing a mask or practicing social distancing now you’re going to invite me to sit down give me a plate of whatever you’re eating and give me  more minutes on my terms” at press time trump reportedly made several unsuccessful attempts to flip the table and then stormed out after stahl again pressed the president on his coronavirus response\n"
     ]
    }
   ],
   "source": [
    "#Data pre-processing\n",
    "TEXT_preProcessed = \"\"\n",
    "for char in TEXT:\n",
    "    if char not in string.punctuation and not char.isdigit():\n",
    "        TEXT_preProcessed = TEXT_preProcessed + char.lower()\n",
    "print(TEXT_preProcessed)"
   ]
  },
  {
   "cell_type": "code",
   "execution_count": 20,
   "metadata": {},
   "outputs": [
    {
     "name": "stdout",
     "output_type": "stream",
     "text": [
      "{'the': 7, 'to': 7, 'of': 6, 'and': 6, 'a': 5, 'her': 4, 'you’re': 4, 'me': 4, 'president': 3, 'eating': 3, 'at': 3, 'after': 3, 'on': 3, 'he': 2, 'trump': 2, 'reportedly': 2, 'stormed': 2, 'into': 2, 'his': 2, 'minutes': 2, 'interview': 2, 'stahl': 2, 'was': 2, 'home': 2, 'well': 2, 'my': 2, 'said': 2, 'down': 2, 'out': 2, 'how': 2, 'you': 2, 'now': 2, 'going': 2, 'give': 2}\n"
     ]
    }
   ],
   "source": [
    "TEXT_wordList = TEXT_preProcessed.split()\n",
    "\n",
    "TEXT_dict = dict()\n",
    "for word in TEXT_wordList:\n",
    "    if word not in TEXT_dict:\n",
    "        TEXT_dict[word] = 1\n",
    "    else:\n",
    "        TEXT_dict[word] += 1\n",
    "\n",
    "TEXT_dictSort = sorted(TEXT_dict.items(),key = lambda var: var[1],reverse = True)\n",
    "# print(TEXT_dictSort)\n",
    "\n",
    "TEXT_dictNew = dict()\n",
    "for (key,value) in TEXT_dictSort:\n",
    "    if value >1:\n",
    "        TEXT_dictNew[key] = value\n",
    "print(TEXT_dictNew)"
   ]
  },
  {
   "cell_type": "code",
   "execution_count": 21,
   "metadata": {},
   "outputs": [
    {
     "data": {
      "text/plain": [
       "<matplotlib.legend.Legend at 0x268240b52c8>"
      ]
     },
     "execution_count": 21,
     "metadata": {},
     "output_type": "execute_result"
    },
    {
     "data": {
      "image/png": "[encoded data removed]",
      "text/plain": [
       "<Figure size 432x288 with 1 Axes>"
      ]
     },
     "metadata": {
      "needs_background": "light"
     },
     "output_type": "display_data"
    }
   ],
   "source": [
    "keys = TEXT_dictNew.keys()\n",
    "values = TEXT_dictNew.values()\n",
    "plt.bar(keys,values,alpha = 0.2)\n",
    "plt.xlabel(\"List of Words\")\n",
    "plt.ylabel(\"Frequency of words\")\n",
    "plt.title(\"Words vs Frequency\")\n",
    "plt.xticks(rotation=90)\n",
    "plt.legend(labels=['Frequecy of words'])\n"
   ]
  },
  {
   "cell_type": "code",
   "execution_count": null,
   "metadata": {},
   "outputs": [],
   "source": []
  }
 ],
 "metadata": {
  "kernelspec": {
   "display_name": "Python 3",
   "language": "python",
   "name": "python3"
  },
  "language_info": {
   "codemirror_mode": {
    "name": "ipython",
    "version": 3
   },
   "file_extension": ".py",
   "mimetype": "text/x-python",
   "name": "python",
   "nbconvert_exporter": "python",
   "pygments_lexer": "ipython3",
   "version": "3.7.9"
  }
 },
 "nbformat": 4,
 "nbformat_minor": 4
}
